{
 "cells": [
  {
   "cell_type": "markdown",
   "id": "3d9b5ed4",
   "metadata": {},
   "source": [
    "Pegando dados exif da Imagem"
   ]
  },
  {
   "cell_type": "code",
   "execution_count": null,
   "id": "271d857f",
   "metadata": {},
   "outputs": [],
   "source": [
    "from exif import Image\n",
    "with open(\"git_logo.jpg\",'rb') as image_file:\n",
    "    my_image  = Image(image_file)\n",
    "    "
   ]
  },
  {
   "cell_type": "markdown",
   "id": "cccf5ea7",
   "metadata": {},
   "source": [
    "Lendo a documentação do PIL (TUTORIAL)"
   ]
  },
  {
   "cell_type": "code",
   "execution_count": 18,
   "id": "bf4beb9c",
   "metadata": {},
   "outputs": [
    {
     "name": "stdout",
     "output_type": "stream",
     "text": [
      "JPEG (348, 145) RGB\n"
     ]
    }
   ],
   "source": [
    "from PIL import Image\n",
    "image = Image.open(\"git_logo.jpg\")\n",
    "\n",
    "print(image.format,image.size,image.mode)\n",
    "image.show()"
   ]
  },
  {
   "cell_type": "code",
   "execution_count": null,
   "id": "08a96c71",
   "metadata": {},
   "outputs": [],
   "source": []
  }
 ],
 "metadata": {
  "kernelspec": {
   "display_name": "Python 3",
   "language": "python",
   "name": "python3"
  },
  "language_info": {
   "codemirror_mode": {
    "name": "ipython",
    "version": 3
   },
   "file_extension": ".py",
   "mimetype": "text/x-python",
   "name": "python",
   "nbconvert_exporter": "python",
   "pygments_lexer": "ipython3",
   "version": "3.13.5"
  }
 },
 "nbformat": 4,
 "nbformat_minor": 5
}
